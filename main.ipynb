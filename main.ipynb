{
  "cells": [
    {
      "cell_type": "markdown",
      "metadata": {
        "id": "4NZjqbleQ75M"
      },
      "source": [
        "**Pengurutan Tim Liga Inggris Berdasarkan Jumlah Gelar juara premier league dengan pendekatan itteratif dan rekursif**"
      ]
    },
    {
      "cell_type": "code",
      "execution_count": 126,
      "metadata": {
        "id": "zMNxdA8hQ6qA"
      },
      "outputs": [],
      "source": [
        "import time\n",
        "import json\n",
        "import requests\n",
        "import matplotlib.pyplot as plt\n",
        "\n",
        "from prettytable import PrettyTable\n",
        "from enum import auto, Enum"
      ]
    },
    {
      "cell_type": "code",
      "execution_count": 127,
      "metadata": {},
      "outputs": [],
      "source": [
        "url = \"https://raw.githubusercontent.com/Sleepy4k/python-tugas-besar-aka/refs/heads/main/league_champs.json\"\n",
        "response = requests.get(url)\n",
        "data = response.json()\n",
        "\n",
        "# Only for local testing\n",
        "# with open(\"league_champs.json\", \"r\") as file:\n",
        "#   data = json.load(file)"
      ]
    },
    {
      "cell_type": "code",
      "execution_count": 128,
      "metadata": {
        "id": "008MZE4zYWSU"
      },
      "outputs": [],
      "source": [
        "# Inisialisasi variable untuk menyimpan data\n",
        "n_list = []\n",
        "recursive_time_list = []\n",
        "iterative_time_list = []\n",
        "\n",
        "# Inisialisasi table dari fungsi construct pada library PrettyTable\n",
        "table = PrettyTable()\n",
        "\n",
        "# Mengisi header dari table sehingga lebih informatif\n",
        "table.field_names = [\"n\", \"Waktu Rekursif (s)\", \"Waktu Iteratif (s)\"]"
      ]
    },
    {
      "cell_type": "code",
      "execution_count": 129,
      "metadata": {
        "id": "pDGpl4dyXJIK"
      },
      "outputs": [],
      "source": [
        "class JenisSort(Enum):\n",
        "  \"\"\"\n",
        "  Membuat enum untuk menentukan jenis algoritma sorting yang akan digunakan\n",
        "  sehingga program dapat menentukan jenis algoritma sorting yang akan digunakan\n",
        "  @param ITERATIF: algoritma sorting dengan pendekatan iteratif\n",
        "  @param REKURSIF: algoritma sorting dengan pendekatan rekursif\n",
        "  \"\"\"\n",
        "\n",
        "  ITERATIF = auto()\n",
        "  REKURSIF = auto()"
      ]
    },
    {
      "cell_type": "code",
      "execution_count": 130,
      "metadata": {
        "id": "vBzcNT37cgQZ"
      },
      "outputs": [],
      "source": [
        "def create_graph():\n",
        "  \"\"\"\n",
        "  Membuat fungsi untuk membuat grafik dari data yang diberikan\n",
        "  dengan menggunakan library matplotlib untuk visualisasi data\n",
        "  performa algoritma sorting dari merge dan bubble sort\n",
        "  \"\"\"\n",
        "\n",
        "  plt.figure(figsize=(10, 6))\n",
        "  plt.plot(n_list, recursive_time_list, label='Rekursif', marker='o', linestyle='-')\n",
        "  plt.plot(n_list, iterative_time_list, label='Iteratif', marker='o', linestyle='-')\n",
        "  plt.title('Grafik Performa Antara Rekursif dan Iteratif')\n",
        "  plt.xlabel('Jumlah Team (n)')\n",
        "  plt.ylabel('Waktu Eksekusi (seconds)')\n",
        "  plt.legend()\n",
        "  plt.grid(True)\n",
        "  plt.show()"
      ]
    },
    {
      "cell_type": "code",
      "execution_count": 131,
      "metadata": {
        "id": "Nu_uofsIh3Yd"
      },
      "outputs": [],
      "source": [
        "def create_table():\n",
        "  \"\"\"\n",
        "  Prosedur untuk membuat tabel dari data yang diberikan\n",
        "  dengan menggunakan library prettytable untuk visualisasi data\n",
        "  Waktu eksekusi dari algoritma sorting dari merge dan bubble sort\n",
        "  \"\"\"\n",
        "\n",
        "  # mencari jumlah list terkecil dari list input, rekursif, dan iteratif\n",
        "  # sehingga proses mencetak table tidak terjadi bug atau error\n",
        "  min_len = min(len(n_list), len(recursive_time_list), len(iterative_time_list))\n",
        "\n",
        "  # Melakukan perulangan dari 0 hingga n, dimana n adalah jumlah minimal\n",
        "  # yang sudah ditentukan\n",
        "  for i in range(min_len):\n",
        "    # menambahkan baris dari nilai yang berada pada indeks ke i, dimana\n",
        "    # nilai dari i didapat dari nilai perulangan yang dilakukan\n",
        "    table.add_row([n_list[i], f\"{recursive_time_list[i]:.7f}\", f\"{iterative_time_list[i]:.7f}\"])\n",
        "\n",
        "  # Mencetak table yang sudah dibuat\n",
        "  print(table)"
      ]
    },
    {
      "cell_type": "code",
      "execution_count": 132,
      "metadata": {
        "id": "3vX_kESORDhp"
      },
      "outputs": [],
      "source": [
        "def bubble_sort(teams):\n",
        "  \"\"\"\n",
        "  Membuat fungsi sorting dengan pendekatan iteratif menggunakan metode bubble sort\n",
        "  @param teams: list team yang akan diurutkan\n",
        "  @return: list team yang telah diurutkan\n",
        "  \"\"\"\n",
        "\n",
        "  # N = jumlah data dari list yang diberikan\n",
        "  # dimana data N akan menjadi batas iterasi luar\n",
        "  n = len(teams)\n",
        "\n",
        "  # Melakukan pengecekan apakah nilai N bernilai 0 atau kosong\n",
        "  # jika data teams kosong, maka kembalikan nilai list kosong\n",
        "  if n == 0:\n",
        "    return teams\n",
        "\n",
        "  # Pada iterasi luar, kita akan melakukan perulangan\n",
        "  # sebanyak N kali yaitu jumlah elemen pada list team\n",
        "  for x in range(n):\n",
        "    # Pada iterasi dalam, kita akan melakukan perulangan\n",
        "    # dari 0 hingga n - x - 1, dengan kata lain pada iterasi\n",
        "    # pertama berjalan sebanyak n - 1 kali karena x bernilai 0\n",
        "    for y in range(0, n-x-1):\n",
        "      # Pada tahap ini, kita akan melakukan operasi dasar yaitu\n",
        "      # perbandingan, dimana ketika nilai pada indeks ke y kurang dari\n",
        "      # nilai pada indeks ke y + 1 maka program akan melakukan aksi yang\n",
        "      # sudah diberikan karena syarat berhasil terpenuhi atau bernilai benar\n",
        "      if teams[y][1] < teams[y+1][1]:\n",
        "        # Ketika syarat pada kondisi terpenuhi, selanjutnya kita akan melakukan\n",
        "        # operasi dasar penukaran nilai, dimana nilai pada indeks ke y dan nilai\n",
        "        # indeks ke y + 1 akan ditukar sehingga menghasilkan list yang terurut\n",
        "        # membesar dengan perumpamaan i > j && j > k && ... && x > n\n",
        "        teams[y], teams[y+1] = teams[y+1], teams[y]\n",
        "\n",
        "  # Setelah proses pengurutan selesai, selanjutnya kita akan\n",
        "  # mengembalikan list data yang sudah terurut membesar\n",
        "  return teams"
      ]
    },
    {
      "cell_type": "code",
      "execution_count": 133,
      "metadata": {
        "id": "XydzI6N9V8zU"
      },
      "outputs": [],
      "source": [
        "def merge_sort(teams):\n",
        "  \"\"\"\n",
        "  Membuat fungsi sorting dengan pendekatan rekursif menggunakan metode merge sort\n",
        "  @param teams: list team yang akan diurutkan\n",
        "  @return: list team yang telah diurutkan\n",
        "  \"\"\"\n",
        "\n",
        "  # Menghitung panjang nilai dari teams agar menghindari\n",
        "  # perulangan kode dan lebih mudah untuk digunakan\n",
        "  length = len(teams)\n",
        "\n",
        "  # Melakukan pengecekan apakah nilai length bernilai 0 atau kosong\n",
        "  # jika data teams kosong, maka kembalikan nilai list kosong\n",
        "  if length <= 1:\n",
        "    return teams\n",
        "\n",
        "  # Mencari indeks tengah dari list yang diberikan\n",
        "  # dengan perumpamaan panjang list dibagi 2\n",
        "  mid = length // 2\n",
        "\n",
        "  # Menentukan list berdasarkan nilai tengah yang kita bagi\n",
        "  # menjadi 2 bagian yaitu bagian kiri dan bagian kanan\n",
        "  left_half = teams[:mid]\n",
        "  right_half = teams[mid:]\n",
        "\n",
        "  # Menjalankan pendekatan rekursif,\n",
        "  # sehingga data dari setiap bagian menjadi urut membesar\n",
        "  merge_sort(left_half)\n",
        "  merge_sort(right_half)\n",
        "\n",
        "  # Deklarasi variable i, j, dan k\n",
        "  # dimana semua variable di berikan nilai 0\n",
        "  i = j = k = 0\n",
        "\n",
        "  # Melakukan iterasi dimana akan terus berjalan hingga\n",
        "  # kondisi nilai i dan j kurang dari panjang nilai left dan right\n",
        "  while i < len(left_half) and j < len(right_half):\n",
        "    if left_half[i][1] > right_half[j][1]:\n",
        "      teams[k] = left_half[i]\n",
        "      i += 1\n",
        "    else:\n",
        "      teams[k] = right_half[j]\n",
        "      j += 1\n",
        "    k += 1\n",
        "\n",
        "  while i < len(left_half):\n",
        "    teams[k] = left_half[i]\n",
        "    i += 1\n",
        "    k += 1\n",
        "\n",
        "  while j < len(right_half):\n",
        "    teams[k] = right_half[j]\n",
        "    j += 1\n",
        "    k += 1\n",
        "\n",
        "  return teams"
      ]
    },
    {
      "cell_type": "code",
      "execution_count": 134,
      "metadata": {
        "id": "9KcVNiX4Xatl"
      },
      "outputs": [],
      "source": [
        "def calculate_time(sort_type, teams):\n",
        "  \"\"\"\n",
        "  Membuat fungsi untuk menghitung waktu eksekusi dari algoritma sorting\n",
        "  @param sort_type: jenis algoritma sorting yang akan digunakan\n",
        "  @param teams: list team yang akan diurutkan\n",
        "  \"\"\"\n",
        "\n",
        "  start_time = time.time()\n",
        "\n",
        "  if sort_type == JenisSort.ITERATIF:\n",
        "    bubble_sort(teams)\n",
        "    end_time = time.time()\n",
        "    iterative_time_list.append(round(end_time - start_time, 6))\n",
        "  elif sort_type == JenisSort.REKURSIF:\n",
        "    merge_sort(teams)\n",
        "    end_time = time.time()\n",
        "    recursive_time_list.append(round(end_time - start_time, 6))\n",
        "  else:\n",
        "    print(\"Jenis algoritma sorting tidak valid\")"
      ]
    },
    {
      "cell_type": "code",
      "execution_count": 135,
      "metadata": {},
      "outputs": [],
      "source": [
        "def parse_data(data):\n",
        "  \"\"\"\n",
        "  Membuat fungsi untuk memparsing data dari json\n",
        "  @param data: data yang akan diparsing\n",
        "  @return teams: list team yang telah diparsing\n",
        "  \"\"\"\n",
        "\n",
        "  teams = []\n",
        "  team_name = {}\n",
        "\n",
        "  for team in data:\n",
        "    name = team[\"name\"]\n",
        "\n",
        "    if name in team_name:\n",
        "      teams = [(team[0], team[1]) for team in teams if team[0] != name]\n",
        "      \n",
        "      team_name[name] += 1\n",
        "      points = team_name[name]\n",
        "\n",
        "    else:\n",
        "      team_name[name] = 1\n",
        "      points = 1\n",
        "\n",
        "    teams.append((name, points))\n",
        "\n",
        "  return teams"
      ]
    },
    {
      "cell_type": "code",
      "execution_count": 136,
      "metadata": {
        "id": "fNwFJbhNl9_N"
      },
      "outputs": [
        {
          "name": "stdout",
          "output_type": "stream",
          "text": [
            "4\n",
            "+----+--------------------+--------------------+\n",
            "| n  | Waktu Rekursif (s) | Waktu Iteratif (s) |\n",
            "+----+--------------------+--------------------+\n",
            "| 5  |        0.0         |        0.0         |\n",
            "| 10 |        0.0         |        0.0         |\n",
            "| 15 |        0.0         |        0.0         |\n",
            "| 20 |        0.0         |        0.0         |\n",
            "+----+--------------------+--------------------+\n"
          ]
        },
        {
          "data": {
            "image/png": "[encoded data removed]",
            "text/plain": [
              "<Figure size 1000x600 with 1 Axes>"
            ]
          },
          "metadata": {},
          "output_type": "display_data"
        }
      ],
      "source": [
        "parsed_data = parse_data(data)\n",
        "\n",
        "for n in [5, 10, 15, 20]:\n",
        "  teams = parsed_data[:n]\n",
        "  n_list.append(n)\n",
        "\n",
        "  calculate_time(JenisSort.REKURSIF, teams.copy())\n",
        "  calculate_time(JenisSort.ITERATIF, teams.copy())\n",
        "\n",
        "create_table()\n",
        "create_graph()"
      ]
    }
  ],
  "metadata": {
    "colab": {
      "provenance": []
    },
    "kernelspec": {
      "display_name": "Python 3",
      "name": "python3"
    },
    "language_info": {
      "codemirror_mode": {
        "name": "ipython",
        "version": 3
      },
      "file_extension": ".py",
      "mimetype": "text/x-python",
      "name": "python",
      "nbconvert_exporter": "python",
      "pygments_lexer": "ipython3",
      "version": "3.12.2"
    }
  },
  "nbformat": 4,
  "nbformat_minor": 0
}
